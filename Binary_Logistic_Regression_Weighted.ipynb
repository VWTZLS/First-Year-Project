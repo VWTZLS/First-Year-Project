{
  "nbformat": 4,
  "nbformat_minor": 0,
  "metadata": {
    "colab": {
      "name": "Binary Logistic Regression Weighted.ipynb",
      "provenance": []
    },
    "kernelspec": {
      "name": "python3",
      "display_name": "Python 3"
    },
    "language_info": {
      "name": "python"
    }
  },
  "cells": [
    {
      "cell_type": "code",
      "source": [
        "import pandas as pd\n",
        "import numpy as np\n",
        "import statsmodels.api as sm\n",
        "from sklearn.linear_model import LogisticRegression\n",
        "from sklearn import datasets, linear_model\n",
        "from scipy import stats\n",
        "from sklearn.feature_selection import f_regression\n",
        "from scipy.stats import norm"
      ],
      "metadata": {
        "id": "HskGuFQ1XIuI"
      },
      "execution_count": 9,
      "outputs": []
    },
    {
      "cell_type": "markdown",
      "source": [
        "#2019/2020"
      ],
      "metadata": {
        "id": "pI7t6JO4UL45"
      }
    },
    {
      "cell_type": "code",
      "source": [
        "df = pd.read_excel('Student grades 2019_2020.xlsx', \n",
        "                   dtype = {\"Gender\": str,\n",
        "                            \"Grade\": float})\n",
        "Gender = df[\"Gender\"]\n",
        "Grade = df['FINAL GRADE']\n",
        "\n",
        "GenderNP = Gender.to_numpy(dtype=None, copy=False)\n",
        "GradeVar = Grade.to_numpy(dtype=None, copy=False)\n",
        "\n",
        "males = 0 \n",
        "females = 0 \n",
        "\n",
        "GenderVar = np.zeros(GenderNP.size)\n",
        "for i in range(GenderNP.size):\n",
        "  if GenderNP[i] == 'M':\n",
        "    GenderVar[i] = int(0)\n",
        "    males = males + 1\n",
        "  elif GenderNP[i] == 'F':\n",
        "    GenderVar[i] = int(1)\n",
        "    females = females + 1 \n",
        "\n",
        "print('The number of grades achieved by a male:',males)\n",
        "print('The number of grades achieved by a female:',females)\n",
        "def logit_pvalue(model, x):\n",
        "    p = model.predict_proba(x)\n",
        "    n = len(p)\n",
        "    m = len(model.coef_[0]) + 1\n",
        "    coefs = np.concatenate([model.intercept_, model.coef_[0]])\n",
        "    x_full = np.matrix(np.insert(np.array(x), 0, 1, axis = 1))\n",
        "    ans = np.zeros((m, m))\n",
        "    for i in range(n):\n",
        "        ans = ans + np.dot(np.transpose(x_full[i, :]), x_full[i, :]) * p[i,1] * p[i, 0]\n",
        "    vcov = np.linalg.inv(np.matrix(ans))\n",
        "    se = np.sqrt(np.diag(vcov))\n",
        "    t =  coefs/se  \n",
        "    p = (1 - norm.cdf(abs(t))) * 2\n",
        "    return p\n",
        "\n",
        "model = LogisticRegression(C=1e30,class_weight='balanced')\n",
        "GradeVar = GradeVar.reshape(-1,1)\n",
        "model = model.fit(GradeVar, GenderVar)\n",
        "print('The p-values is:',logit_pvalue(model, GradeVar))\n",
        "print(model.predict_proba(GradeVar))\n",
        "print(model.predict(GradeVar))"
      ],
      "metadata": {
        "id": "mQdR8R-hK881"
      },
      "execution_count": null,
      "outputs": []
    },
    {
      "cell_type": "markdown",
      "source": [
        "#2020/2021"
      ],
      "metadata": {
        "id": "_Zh4E__QUKb6"
      }
    },
    {
      "cell_type": "code",
      "source": [
        "df = pd.read_excel('Student grades 2020_2021.xlsx', \n",
        "                   dtype = {\"Gender\": str,\n",
        "                            \"Grade\": float})\n",
        "Gender = df[\"Gender\"]\n",
        "Grade = df['FINAL GRADE']\n",
        "\n",
        "GenderNP = Gender.to_numpy(dtype=None, copy=False)\n",
        "GradeVar = Grade.to_numpy(dtype=None, copy=False)\n",
        "\n",
        "males = 0 \n",
        "females = 0 \n",
        "\n",
        "GenderVar = np.zeros(GenderNP.size)\n",
        "for i in range(GenderNP.size):\n",
        "  if GenderNP[i] == 'M':\n",
        "    GenderVar[i] = int(0)\n",
        "    males = males + 1\n",
        "  elif GenderNP[i] == 'F':\n",
        "    GenderVar[i] = int(1)\n",
        "    females = females + 1 \n",
        "\n",
        "print('The number of grades achieved by a male:',males)\n",
        "print('The number of grades achieved by a female:',females)\n",
        "\n",
        "def logit_pvalue(model, x):\n",
        "    p = model.predict_proba(x)\n",
        "    n = len(p)\n",
        "    m = len(model.coef_[0]) + 1\n",
        "    coefs = np.concatenate([model.intercept_, model.coef_[0]])\n",
        "    x_full = np.matrix(np.insert(np.array(x), 0, 1, axis = 1))\n",
        "    ans = np.zeros((m, m))\n",
        "    for i in range(n):\n",
        "        ans = ans + np.dot(np.transpose(x_full[i, :]), x_full[i, :]) * p[i,1] * p[i, 0]\n",
        "    vcov = np.linalg.inv(np.matrix(ans))\n",
        "    se = np.sqrt(np.diag(vcov))\n",
        "    t =  coefs/se  \n",
        "    p = (1 - norm.cdf(abs(t))) * 2\n",
        "    return p\n",
        "\n",
        "model = LogisticRegression(C=1e30,class_weight='balanced')\n",
        "GradeVar = GradeVar.reshape(-1,1)\n",
        "model = model.fit(GradeVar, GenderVar)\n",
        "print('The p-value is:',logit_pvalue(model, GradeVar))\n",
        "print(model.predict_proba(GradeVar))\n",
        "print(model.predict(GradeVar))"
      ],
      "metadata": {
        "id": "1mVwHcp3SYIF"
      },
      "execution_count": null,
      "outputs": []
    },
    {
      "cell_type": "markdown",
      "source": [
        "#2021/2022"
      ],
      "metadata": {
        "id": "oXaBXcmwUIQC"
      }
    },
    {
      "cell_type": "code",
      "source": [
        "df = pd.read_excel('Student grades 2021_2022.xlsx', \n",
        "                   dtype = {\"Gender\": str,\n",
        "                            \"Grade\": float})\n",
        "Gender = df[\"Gender\"]\n",
        "Grade = df['Final Grade']\n",
        "\n",
        "GenderNP = Gender.to_numpy(dtype=None, copy=False)\n",
        "GradeVar = Grade.to_numpy(dtype=None, copy=False)\n",
        "\n",
        "males = 0 \n",
        "females = 0 \n",
        "\n",
        "GenderVar = np.zeros(GenderNP.size)\n",
        "for i in range(GenderNP.size):\n",
        "  if GenderNP[i] == 'M':\n",
        "    GenderVar[i] = int(0)\n",
        "    males = males + 1\n",
        "  elif GenderNP[i] == 'F':\n",
        "    GenderVar[i] = int(1)\n",
        "    females = females + 1 \n",
        "\n",
        "print('The number of grades achieved by a male:',males)\n",
        "print('The number of grades achieved by a female:',females)\n",
        "\n",
        "def logit_pvalue(model, x):\n",
        "    p = model.predict_proba(x)\n",
        "    n = len(p)\n",
        "    m = len(model.coef_[0]) + 1\n",
        "    coefs = np.concatenate([model.intercept_, model.coef_[0]])\n",
        "    x_full = np.matrix(np.insert(np.array(x), 0, 1, axis = 1))\n",
        "    ans = np.zeros((m, m))\n",
        "    for i in range(n):\n",
        "        ans = ans + np.dot(np.transpose(x_full[i, :]), x_full[i, :]) * p[i,1] * p[i, 0]\n",
        "    vcov = np.linalg.inv(np.matrix(ans))\n",
        "    se = np.sqrt(np.diag(vcov))\n",
        "    t =  coefs/se  \n",
        "    p = (1 - norm.cdf(abs(t))) * 2\n",
        "    return p\n",
        "\n",
        "model = LogisticRegression(C=1e30,class_weight='balanced')\n",
        "GradeVar = GradeVar.reshape(-1,1)\n",
        "model = model.fit(GradeVar, GenderVar)\n",
        "print('The p-value is:',logit_pvalue(model, GradeVar))\n",
        "print(model.predict_proba(GradeVar))\n",
        "print(model.predict(GradeVar))"
      ],
      "metadata": {
        "id": "k-AscpxnSabP"
      },
      "execution_count": null,
      "outputs": []
    }
  ]
}