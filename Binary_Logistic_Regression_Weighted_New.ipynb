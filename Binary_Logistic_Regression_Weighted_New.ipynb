{
  "nbformat": 4,
  "nbformat_minor": 0,
  "metadata": {
    "colab": {
      "name": "Binary Logistic Regression Weighted.ipynb",
      "provenance": [],
      "authorship_tag": "ABX9TyPjz8KGwXAvHBg+UoT+0B8Q",
      "include_colab_link": true
    },
    "kernelspec": {
      "name": "python3",
      "display_name": "Python 3"
    },
    "language_info": {
      "name": "python"
    }
  },
  "cells": [
    {
      "cell_type": "markdown",
      "metadata": {
        "id": "view-in-github",
        "colab_type": "text"
      },
      "source": [
        "<a href=\"https://colab.research.google.com/github/VWTZLS/First-Year-Project/blob/main/Binary_Logistic_Regression_Weighted_New.ipynb\" target=\"_parent\"><img src=\"https://colab.research.google.com/assets/colab-badge.svg\" alt=\"Open In Colab\"/></a>"
      ]
    },
    {
      "cell_type": "code",
      "source": [
        "import pandas as pd\n",
        "import numpy as np\n",
        "import statsmodels.api as sm\n",
        "from sklearn.linear_model import LogisticRegression\n",
        "from sklearn import datasets, linear_model\n",
        "from scipy import stats\n",
        "from sklearn.feature_selection import f_regression\n",
        "from scipy.stats import norm\n",
        "import seaborn as sns\n",
        "import matplotlib.pyplot as plt"
      ],
      "metadata": {
        "id": "HskGuFQ1XIuI",
        "colab": {
          "base_uri": "https://localhost:8080/"
        },
        "outputId": "e4ad838f-7c94-4d58-9c86-f69ee3d3db8d"
      },
      "execution_count": 1,
      "outputs": [
        {
          "output_type": "stream",
          "name": "stderr",
          "text": [
            "/usr/local/lib/python3.7/dist-packages/statsmodels/tools/_testing.py:19: FutureWarning: pandas.util.testing is deprecated. Use the functions in the public API at pandas.testing instead.\n",
            "  import pandas.util.testing as tm\n"
          ]
        }
      ]
    },
    {
      "cell_type": "markdown",
      "source": [
        "#2019/2020"
      ],
      "metadata": {
        "id": "pI7t6JO4UL45"
      }
    },
    {
      "cell_type": "code",
      "source": [
        "df = pd.read_excel('Student grades 2019_2020.xlsx', \n",
        "                   dtype = {\"Gender\": str,\n",
        "                            \"Grade\": float})\n",
        "Gender = df[\"Gender\"]\n",
        "Grade = df['FINAL GRADE']\n",
        "\n",
        "GenderNP = Gender.to_numpy(dtype=None, copy=False)\n",
        "GradeVar = Grade.to_numpy(dtype=None, copy=False)\n",
        "\n",
        "GenderVar = np.zeros(GenderNP.size)\n",
        "for i in range(GenderNP.size):\n",
        "  if GenderNP[i] == 'M':\n",
        "    GenderVar[i] = int(0)\n",
        "  elif GenderNP[i] == 'F':\n",
        "    GenderVar[i] = int(1)\n",
        "\n",
        "def logit_pvalue(model, x):\n",
        "    p = model.predict_proba(x)\n",
        "    n = len(p)\n",
        "    m = len(model.coef_[0]) + 1\n",
        "    coefs = np.concatenate([model.intercept_, model.coef_[0]])\n",
        "    x_full = np.matrix(np.insert(np.array(x), 0, 1, axis = 1))\n",
        "    ans = np.zeros((m, m))\n",
        "    for i in range(n):\n",
        "        ans = ans + np.dot(np.transpose(x_full[i, :]), x_full[i, :]) * p[i,1] * p[i, 0]\n",
        "    vcov = np.linalg.inv(np.matrix(ans))\n",
        "    se = np.sqrt(np.diag(vcov))\n",
        "    t =  coefs/se  \n",
        "    p = (1 - norm.cdf(abs(t))) * 2\n",
        "    return p\n",
        "\n",
        "model = LogisticRegression(C=1e30,class_weight='balanced')\n",
        "GradeVar = GradeVar.reshape(-1,1)\n",
        "model = model.fit(GradeVar, GenderVar)\n",
        "print('The p-values is:',logit_pvalue(model, GradeVar))"
      ],
      "metadata": {
        "id": "mQdR8R-hK881",
        "colab": {
          "base_uri": "https://localhost:8080/"
        },
        "outputId": "46282ec0-f27c-4193-96a7-78e0b6cd331d"
      },
      "execution_count": 21,
      "outputs": [
        {
          "output_type": "stream",
          "name": "stdout",
          "text": [
            "The p-values is: [0.25821857 0.22835053]\n"
          ]
        }
      ]
    },
    {
      "cell_type": "code",
      "source": [
        "# Preparation plot\n",
        "\n",
        "male = pd.read_excel('Male 19_20.xlsx', \n",
        "                   dtype = {\"Male\": float})\n",
        "female = pd.read_excel('Female 19_20.xlsx', \n",
        "                   dtype = {\"Female\": float})\n",
        "\n",
        "\n",
        "malen = male.to_numpy(dtype=None, copy=False)\n",
        "femalen = female.to_numpy(dtype=None, copy=False)\n",
        "\n",
        "X = np.arange(1.0, 10.5, 0.5)\n",
        "Xs2 = list(X)\n",
        "Y = [model.predict_proba([[GradeVar]])[0][1] for GradeVar in Xs2]\n",
        "\n",
        "# Plot\n",
        "\n",
        "fig, ax1 = plt.subplots()\n",
        "ax2 = ax1.twinx()\n",
        "ax3 = ax1.twinx()\n",
        "\n",
        "ax1.set_xlim(1, 10)\n",
        "ax1.set_ylim(0, 1)\n",
        "ax1.set_yticks(np.arange(0, 1.1, 0.1))\n",
        "\n",
        "tickcolors = ['black','maroon','maroon','maroon','maroon','maroon','maroon','maroon','maroon','maroon','black']\n",
        "ax1.set_yticklabels(['Male', 0.1, 0.2, 0.3, 0.4, 0.5, 0.6, 0.7, 0.8, 0.9, 'Female'])\n",
        "\n",
        "for ticklabel, tickcolor in zip(ax1.get_yticklabels(), tickcolors):\n",
        "    ticklabel.set_color(tickcolor)\n",
        "\n",
        "ax2.set_ylim(0, 30)\n",
        "ax3.set_ylim(0, 30)\n",
        "    \n",
        "ax1.set_xlabel(\"Grades\",fontsize=13)\n",
        "ax1.set_ylabel(\"Probability\",color='maroon',fontsize=13)\n",
        "ax2.set_ylabel(\"Frequency\",color='midnightblue',fontsize=13, labelpad=20)\n",
        "\n",
        "ax1.plot(X, Y, color='maroon', label=\"Density\", linewidth=2)\n",
        "ax2.hist(malen, color='white', label=\"Male\", histtype='bar',ec='midnightblue',bins=X)\n",
        "ax3.hist(femalen, color='white', label=\"Female\", histtype='bar',ec='midnightblue',bins=X)\n",
        "\n",
        "ax3.spines['right'].set_position(('outward', 60))\n",
        "ax3.invert_yaxis()\n",
        "\n",
        "ax2.set_yticklabels([0, 5, 10, 15, 10, 5, 0],color='midnightblue')\n",
        "ax3.axes.get_yaxis().set_visible(False)\n",
        "ax4 = ax1.twiny()\n",
        "ax4.set_xlim(1, 10)\n",
        "\n",
        "fig.tight_layout()\n",
        "plt.title('Binary logistic regression: 2019-2020',size=16, y=1.12)\n",
        "\n",
        "plt.savefig('Plot1920' + '.pdf', bbox_inches='tight')"
      ],
      "metadata": {
        "id": "_l5QT2uaaSg_",
        "colab": {
          "base_uri": "https://localhost:8080/",
          "height": 315
        },
        "outputId": "301823a7-2b39-49a6-efc2-121d80ac0479"
      },
      "execution_count": 22,
      "outputs": [
        {
          "output_type": "display_data",
          "data": {
            "text/plain": [
              "<Figure size 432x288 with 4 Axes>"
            ],
            "image/png": "[encoded data removed]"
          },
          "metadata": {
            "needs_background": "light"
          }
        }
      ]
    },
    {
      "cell_type": "markdown",
      "source": [
        "#2020/2021"
      ],
      "metadata": {
        "id": "_Zh4E__QUKb6"
      }
    },
    {
      "cell_type": "code",
      "source": [
        "df = pd.read_excel('Student grades 2020_2021.xlsx', \n",
        "                   dtype = {\"Gender\": str,\n",
        "                            \"Grade\": float})\n",
        "Gender = df[\"Gender\"]\n",
        "Grade = df['FINAL GRADE']\n",
        "\n",
        "GenderNP = Gender.to_numpy(dtype=None, copy=False)\n",
        "GradeVar = Grade.to_numpy(dtype=None, copy=False)\n",
        "\n",
        "GenderVar = np.zeros(GenderNP.size)\n",
        "for i in range(GenderNP.size):\n",
        "  if GenderNP[i] == 'M':\n",
        "    GenderVar[i] = int(0)\n",
        "  elif GenderNP[i] == 'F':\n",
        "    GenderVar[i] = int(1)\n",
        "    \n",
        "def logit_pvalue(model, x):\n",
        "    p = model.predict_proba(x)\n",
        "    n = len(p)\n",
        "    m = len(model.coef_[0]) + 1\n",
        "    coefs = np.concatenate([model.intercept_, model.coef_[0]])\n",
        "    x_full = np.matrix(np.insert(np.array(x), 0, 1, axis = 1))\n",
        "    ans = np.zeros((m, m))\n",
        "    for i in range(n):\n",
        "        ans = ans + np.dot(np.transpose(x_full[i, :]), x_full[i, :]) * p[i,1] * p[i, 0]\n",
        "    vcov = np.linalg.inv(np.matrix(ans))\n",
        "    se = np.sqrt(np.diag(vcov))\n",
        "    t =  coefs/se  \n",
        "    p = (1 - norm.cdf(abs(t))) * 2\n",
        "    return p\n",
        "\n",
        "model = LogisticRegression(C=1e30,class_weight='balanced')\n",
        "GradeVar = GradeVar.reshape(-1,1)\n",
        "model = model.fit(GradeVar, GenderVar)\n",
        "print('The p-value is:',logit_pvalue(model, GradeVar))"
      ],
      "metadata": {
        "id": "1mVwHcp3SYIF",
        "colab": {
          "base_uri": "https://localhost:8080/"
        },
        "outputId": "fb4094a6-419f-42cb-ba6c-8fa1447cfcb3"
      },
      "execution_count": 23,
      "outputs": [
        {
          "output_type": "stream",
          "name": "stdout",
          "text": [
            "The p-value is: [0.72666908 0.71786226]\n"
          ]
        }
      ]
    },
    {
      "cell_type": "code",
      "source": [
        "# Preparation plot\n",
        "\n",
        "male = pd.read_excel('Male 20_21.xlsx', \n",
        "                   dtype = {\"Male\": float})\n",
        "female = pd.read_excel('Female 20_21.xlsx', \n",
        "                   dtype = {\"Female\": float})\n",
        "\n",
        "\n",
        "malen = male.to_numpy(dtype=None, copy=False)\n",
        "femalen = female.to_numpy(dtype=None, copy=False)\n",
        "\n",
        "X = np.arange(1.0, 10.5, 0.5)\n",
        "Xs2 = list(X)\n",
        "Y = [model.predict_proba([[GradeVar]])[0][1] for GradeVar in Xs2]\n",
        "\n",
        "# Plot\n",
        "\n",
        "fig, ax1 = plt.subplots()\n",
        "ax2 = ax1.twinx()\n",
        "ax3 = ax1.twinx()\n",
        "\n",
        "ax1.set_xlim(1, 10)\n",
        "ax1.set_ylim(0, 1)\n",
        "ax1.set_yticks(np.arange(0, 1.1, 0.1))\n",
        "\n",
        "tickcolors = ['black','maroon','maroon','maroon','maroon','maroon','maroon','maroon','maroon','maroon','black']\n",
        "ax1.set_yticklabels(['Male', 0.1, 0.2, 0.3, 0.4, 0.5, 0.6, 0.7, 0.8, 0.9, 'Female'])\n",
        "\n",
        "for ticklabel, tickcolor in zip(ax1.get_yticklabels(), tickcolors):\n",
        "    ticklabel.set_color(tickcolor)\n",
        "\n",
        "ax2.set_ylim(0, 30)\n",
        "ax3.set_ylim(0, 30)\n",
        "    \n",
        "ax1.set_xlabel(\"Grades\",fontsize=13)\n",
        "ax1.set_ylabel(\"Probability\",color='maroon',fontsize=13)\n",
        "ax2.set_ylabel(\"Frequency\",color='midnightblue',fontsize=13, labelpad=20)\n",
        "\n",
        "ax1.plot(X, Y, color='maroon', label=\"Density\", linewidth=2)\n",
        "ax2.hist(malen, color='white', label=\"Male\", histtype='bar',ec='midnightblue',bins=X)\n",
        "ax3.hist(femalen, color='white', label=\"Female\", histtype='bar',ec='midnightblue',bins=X)\n",
        "\n",
        "ax3.spines['right'].set_position(('outward', 60))\n",
        "ax3.invert_yaxis()\n",
        "\n",
        "ax2.set_yticklabels([0, 5, 10, 15, 10, 5, 0],color='midnightblue')\n",
        "ax3.axes.get_yaxis().set_visible(False)\n",
        "ax4 = ax1.twiny()\n",
        "ax4.set_xlim(1, 10)\n",
        "\n",
        "fig.tight_layout()\n",
        "plt.title('Binary logistic regression: 2020-2021',size=16, y=1.12)\n",
        "\n",
        "plt.savefig('Plot2021' + '.pdf', bbox_inches='tight')"
      ],
      "metadata": {
        "id": "eCG0-8hDkXyB",
        "colab": {
          "base_uri": "https://localhost:8080/",
          "height": 315
        },
        "outputId": "ec731a61-685e-40c1-c6b3-bd1ddd19eb10"
      },
      "execution_count": 24,
      "outputs": [
        {
          "output_type": "display_data",
          "data": {
            "text/plain": [
              "<Figure size 432x288 with 4 Axes>"
            ],
            "image/png": "[encoded data removed]"
          },
          "metadata": {
            "needs_background": "light"
          }
        }
      ]
    },
    {
      "cell_type": "markdown",
      "source": [
        "#2021/2022"
      ],
      "metadata": {
        "id": "oXaBXcmwUIQC"
      }
    },
    {
      "cell_type": "code",
      "source": [
        "df = pd.read_excel('Student grades 2021_2022.xlsx', \n",
        "                   dtype = {\"Gender\": str,\n",
        "                            \"Grade\": float})\n",
        "Gender = df[\"Gender\"]\n",
        "Grade = df['Final Grade']\n",
        "\n",
        "GenderNP = Gender.to_numpy(dtype=None, copy=False)\n",
        "GradeVar = Grade.to_numpy(dtype=None, copy=False)\n",
        "\n",
        "GenderVar = np.zeros(GenderNP.size)\n",
        "for i in range(GenderNP.size):\n",
        "  if GenderNP[i] == 'M':\n",
        "    GenderVar[i] = int(0)\n",
        "  elif GenderNP[i] == 'F':\n",
        "    GenderVar[i] = int(1)\n",
        "\n",
        "def logit_pvalue(model, x):\n",
        "    p = model.predict_proba(x)\n",
        "    n = len(p)\n",
        "    m = len(model.coef_[0]) + 1\n",
        "    coefs = np.concatenate([model.intercept_, model.coef_[0]])\n",
        "    x_full = np.matrix(np.insert(np.array(x), 0, 1, axis = 1))\n",
        "    ans = np.zeros((m, m))\n",
        "    for i in range(n):\n",
        "        ans = ans + np.dot(np.transpose(x_full[i, :]), x_full[i, :]) * p[i,1] * p[i, 0]\n",
        "    vcov = np.linalg.inv(np.matrix(ans))\n",
        "    se = np.sqrt(np.diag(vcov))\n",
        "    t =  coefs/se  \n",
        "    p = (1 - norm.cdf(abs(t))) * 2\n",
        "    return p\n",
        "\n",
        "model = LogisticRegression(C=1e30,class_weight='balanced')\n",
        "GradeVar = GradeVar.reshape(-1,1)\n",
        "model = model.fit(GradeVar, GenderVar)\n",
        "print('The p-value is:',logit_pvalue(model, GradeVar))"
      ],
      "metadata": {
        "id": "k-AscpxnSabP",
        "colab": {
          "base_uri": "https://localhost:8080/"
        },
        "outputId": "eba68546-a040-4e77-f136-f56626cc585a"
      },
      "execution_count": 2,
      "outputs": [
        {
          "output_type": "stream",
          "name": "stdout",
          "text": [
            "The p-value is: [0.4309239  0.42122291]\n"
          ]
        }
      ]
    },
    {
      "cell_type": "code",
      "source": [
        "# Preparation plot\n",
        "\n",
        "male = pd.read_excel('Male 21_22.xlsx', \n",
        "                   dtype = {\"Male\": float})\n",
        "female = pd.read_excel('Female 21_22.xlsx', \n",
        "                   dtype = {\"Female\": float})\n",
        "\n",
        "\n",
        "malen = male.to_numpy(dtype=None, copy=False)\n",
        "femalen = female.to_numpy(dtype=None, copy=False)\n",
        "\n",
        "X = np.arange(1.0, 10.5, 0.5)\n",
        "Xs2 = list(X)\n",
        "Y = [model.predict_proba([[GradeVar]])[0][1] for GradeVar in Xs2]\n",
        "\n",
        "# Plot\n",
        "\n",
        "fig, ax1 = plt.subplots()\n",
        "ax2 = ax1.twinx()\n",
        "ax3 = ax1.twinx()\n",
        "\n",
        "ax1.set_xlim(1, 10)\n",
        "ax1.set_ylim(0, 1)\n",
        "ax1.set_yticks(np.arange(0, 1.1, 0.1))\n",
        "\n",
        "tickcolors = ['black','maroon','maroon','maroon','maroon','maroon','maroon','maroon','maroon','maroon','black']\n",
        "ax1.set_yticklabels(['Male', 0.1, 0.2, 0.3, 0.4, 0.5, 0.6, 0.7, 0.8, 0.9, 'Female'])\n",
        "\n",
        "for ticklabel, tickcolor in zip(ax1.get_yticklabels(), tickcolors):\n",
        "    ticklabel.set_color(tickcolor)\n",
        "\n",
        "ax2.set_ylim(0, 30)\n",
        "ax3.set_ylim(0, 30)\n",
        "    \n",
        "ax1.set_xlabel(\"Grades\",fontsize=13)\n",
        "ax1.set_ylabel(\"Probability\",color='maroon',fontsize=13)\n",
        "ax2.set_ylabel(\"Frequency\",color='midnightblue',fontsize=13, labelpad=20)\n",
        "\n",
        "\n",
        "ax1.plot(X, Y, color='maroon', label=\"Density\", linewidth=2)\n",
        "ax2.hist(malen, color='white', label=\"Male\", histtype='bar',ec='midnightblue',bins=X)\n",
        "ax3.hist(femalen, color='white', label=\"Female\", histtype='bar',ec='midnightblue',bins=X)\n",
        "\n",
        "ax3.spines['right'].set_position(('outward', 60))\n",
        "ax3.invert_yaxis()\n",
        "\n",
        "ax2.set_yticklabels([0, 5, 10, 15, 10, 5, 0],color='midnightblue')\n",
        "ax3.axes.get_yaxis().set_visible(False)\n",
        "ax4 = ax1.twiny()\n",
        "ax4.set_xlim(1, 10)\n",
        "\n",
        "fig.tight_layout()\n",
        "plt.title('Binary logistic regression: 2021-2022',size=16, y=1.12)\n",
        "\n",
        "plt.savefig('Plot2122' + '.pdf', bbox_inches='tight')"
      ],
      "metadata": {
        "id": "UZJ7dYXwlPIH",
        "colab": {
          "base_uri": "https://localhost:8080/",
          "height": 315
        },
        "outputId": "0e8caf78-763e-4014-f485-43435ffe5631"
      },
      "execution_count": 19,
      "outputs": [
        {
          "output_type": "display_data",
          "data": {
            "text/plain": [
              "<Figure size 432x288 with 4 Axes>"
            ],
            "image/png": "[encoded data removed]"
          },
          "metadata": {
            "needs_background": "light"
          }
        }
      ]
    }
  ]
}